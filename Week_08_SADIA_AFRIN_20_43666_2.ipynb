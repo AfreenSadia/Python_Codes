{
  "cells": [
    {
      "cell_type": "code",
      "execution_count": 1,
      "metadata": {
        "id": "hYW2TIWObnCK"
      },
      "outputs": [],
      "source": [
        "# Define a new cgraph\n",
        "cgraph = {'WA': ['SA', 'NT'], \n",
        "          'Q': ['SA', 'NT', 'NSW'], \n",
        "          'T': [],\n",
        "          'V': ['SA', 'NSW'], \n",
        "          'SA': ['WA', 'NT', 'Q', 'NSW','V'], \n",
        "          'NT': ['Q', 'WA', 'SA'], \n",
        "          'NSW': ['Q', 'V', 'SA']}"
      ]
    },
    {
      "cell_type": "code",
      "execution_count": 2,
      "metadata": {
        "id": "9O9871h6bnCN"
      },
      "outputs": [],
      "source": [
        "import random\n",
        "def get_color(node, rv, cg):\n",
        "    # CODE\n",
        "    # check rv[node] is empty or not when no color availabe\n",
        "    # return 'no color'\n",
        "    if len(rv[node])==0:\n",
        "      return 'no_color'\n",
        "    color = random.choice(rv[node])\n",
        "    rv.pop(node)\n",
        "    # update remaining values for neihbouring node\n",
        "    adjList = cg[node]\n",
        "    for adj in adjList:\n",
        "        if adj in rv.keys() and color in rv[adj]:\n",
        "            rv[adj].remove(color)\n",
        "    #print(adjList)\n",
        "    return color"
      ]
    },
    {
      "cell_type": "markdown",
      "metadata": {
        "id": "j8ywr8eQbnCN"
      },
      "source": [
        "## Highest Degree Node"
      ]
    },
    {
      "cell_type": "code",
      "execution_count": 3,
      "metadata": {
        "id": "hDpTD2onbnCO"
      },
      "outputs": [],
      "source": [
        "# write a method to get the highest degree node\n",
        "def get_hdnode(cg, solved):\n",
        "    mnode = ''\n",
        "    degree = -1\n",
        "    for k in cg.keys():\n",
        "        if len(cg[k])  > degree and k not in solved.keys():\n",
        "            #print(k)\n",
        "            degree = len(cg[k])\n",
        "            mnode = k\n",
        "    return mnode"
      ]
    },
    {
      "cell_type": "code",
      "source": [
        "get_hdnode(cgraph, {})"
      ],
      "metadata": {
        "colab": {
          "base_uri": "https://localhost:8080/",
          "height": 36
        },
        "id": "hn_4jQ7U0C9K",
        "outputId": "d9f0e4c3-8a00-410a-a6c3-34fd2567c72a"
      },
      "execution_count": 5,
      "outputs": [
        {
          "output_type": "execute_result",
          "data": {
            "text/plain": [
              "'SA'"
            ],
            "application/vnd.google.colaboratory.intrinsic+json": {
              "type": "string"
            }
          },
          "metadata": {},
          "execution_count": 5
        }
      ]
    },
    {
      "cell_type": "markdown",
      "metadata": {
        "id": "ylzC1XBQbnCP"
      },
      "source": [
        "Color the nodes using Highest degree heuristic"
      ]
    },
    {
      "cell_type": "code",
      "execution_count": 4,
      "metadata": {
        "id": "iHlkL3lJbnCP",
        "outputId": "15ace587-ca0f-4512-ddaf-e57259e605b6",
        "colab": {
          "base_uri": "https://localhost:8080/"
        }
      },
      "outputs": [
        {
          "output_type": "stream",
          "name": "stdout",
          "text": [
            "rv: {'WA': ['R', 'G', 'B'], 'Q': ['R', 'G', 'B'], 'T': ['R', 'G', 'B'], 'V': ['R', 'G', 'B'], 'NT': ['R', 'G', 'B'], 'SA': ['R', 'G', 'B'], 'NSW': ['R', 'G', 'B']}\n",
            "Selected Node: SA\n",
            "assigned: {'SA': 'R'}\n",
            "rv: {'WA': ['G', 'B'], 'Q': ['G', 'B'], 'T': ['R', 'G', 'B'], 'V': ['G', 'B'], 'NT': ['G', 'B'], 'NSW': ['G', 'B']}\n",
            "Selected Node: Q\n",
            "assigned: {'SA': 'R', 'Q': 'G'}\n",
            "rv: {'WA': ['G', 'B'], 'T': ['R', 'G', 'B'], 'V': ['G', 'B'], 'NT': ['B'], 'NSW': ['B']}\n",
            "Selected Node: NT\n",
            "assigned: {'SA': 'R', 'Q': 'G', 'NT': 'B'}\n",
            "rv: {'WA': ['G'], 'T': ['R', 'G', 'B'], 'V': ['G', 'B'], 'NSW': ['B']}\n",
            "Selected Node: NSW\n",
            "assigned: {'SA': 'R', 'Q': 'G', 'NT': 'B', 'NSW': 'B'}\n",
            "rv: {'WA': ['G'], 'T': ['R', 'G', 'B'], 'V': ['G']}\n",
            "Selected Node: WA\n",
            "assigned: {'SA': 'R', 'Q': 'G', 'NT': 'B', 'NSW': 'B', 'WA': 'G'}\n",
            "rv: {'T': ['R', 'G', 'B'], 'V': ['G']}\n",
            "Selected Node: V\n",
            "assigned: {'SA': 'R', 'Q': 'G', 'NT': 'B', 'NSW': 'B', 'WA': 'G', 'V': 'G'}\n",
            "rv: {'T': ['R', 'G', 'B']}\n",
            "Selected Node: T\n",
            "assigned: {'SA': 'R', 'Q': 'G', 'NT': 'B', 'NSW': 'B', 'WA': 'G', 'V': 'G', 'T': 'R'}\n"
          ]
        }
      ],
      "source": [
        "assigned = {} # store assigned variables with colors\n",
        "remainingValues = {'WA': ['R','G','B'], \n",
        "                    'Q': ['R','G','B'],\n",
        "                    'T': ['R','G','B'],\n",
        "                    'V':  ['R','G','B'], \n",
        "                    'NT': ['R','G','B'],\n",
        "                    'SA': ['R','G','B'],                    \n",
        "                    'NSW': ['R','G','B']}\n",
        "\n",
        "for i in range(len(cgraph)):\n",
        "    print('rv: ', end=\"\")\n",
        "    print(remainingValues)\n",
        "    # assign color to the highest degree node\n",
        "    hdNode = get_hdnode(cgraph, assigned)\n",
        "    print('Selected Node: '+hdNode)\n",
        "    color = get_color(hdNode, remainingValues, cgraph)\n",
        "    if color=='no_color':\n",
        "      print('failure')\n",
        "      break\n",
        "   \n",
        "     \n",
        "    # CODE\n",
        "    # check if 'no color' is returned\n",
        "    # print failure\n",
        "\n",
        "    assigned[hdNode]= color\n",
        "    print('assigned: ', end=\"\")\n",
        "    print(assigned)\n",
        "    \n"
      ]
    },
    {
      "cell_type": "markdown",
      "metadata": {
        "id": "c7h2vdiTbnCQ"
      },
      "source": [
        "## Minimum Remaining Value"
      ]
    },
    {
      "cell_type": "code",
      "execution_count": null,
      "metadata": {
        "id": "zYiGg6q1bnCQ"
      },
      "outputs": [],
      "source": [
        "# define a method to select a node by MRV\n",
        "import math\n",
        "def get_MRVnode(rv):\n",
        "\n",
        "    # CODE\n",
        "    #implement the logic on remainingValues list\n",
        "     node=''\n",
        "     \n",
        "\n",
        "   "
      ]
    },
    {
      "cell_type": "markdown",
      "metadata": {
        "id": "4CHiqApobnCR"
      },
      "source": [
        "Color the nodes using MRV heuristic"
      ]
    },
    {
      "cell_type": "code",
      "execution_count": null,
      "metadata": {
        "id": "-WkGNPrsbnCR",
        "colab": {
          "base_uri": "https://localhost:8080/"
        },
        "outputId": "62716080-e9aa-4954-fe14-a78d7725c0bc"
      },
      "outputs": [
        {
          "output_type": "stream",
          "name": "stdout",
          "text": [
            "{'WA': ['R', 'G', 'B'], 'Q': ['R', 'G', 'B'], 'T': ['R', 'G', 'B'], 'V': ['R', 'G', 'B'], 'NT': ['R', 'G', 'B'], 'SA': ['R', 'G', 'B'], 'NSW': ['R', 'G', 'B']}\n",
            "{'SA': 'G', 'Q': 'R', 'NT': 'B', 'NSW': 'B', 'WA': 'G', 'V': 'R', 'T': 'R'}\n",
            "{'Q': ['R', 'G', 'B'], 'T': ['R', 'G', 'B'], 'V': ['R', 'G', 'B'], 'NT': ['R', 'B'], 'SA': ['R', 'B'], 'NSW': ['R', 'G', 'B']}\n",
            "{'SA': 'G', 'Q': 'R', 'NT': 'B', 'NSW': 'B', 'WA': 'G', 'V': 'R', 'T': 'R'}\n",
            "{'T': ['R', 'G', 'B'], 'V': ['R', 'G', 'B'], 'NT': ['B'], 'SA': ['B'], 'NSW': ['G', 'B']}\n",
            "{'SA': 'G', 'Q': 'R', 'NT': 'B', 'NSW': 'B', 'WA': 'G', 'V': 'R', 'T': 'G'}\n",
            "{'V': ['R', 'G', 'B'], 'NT': ['B'], 'SA': ['B'], 'NSW': ['G', 'B']}\n",
            "{'SA': 'G', 'Q': 'R', 'NT': 'B', 'NSW': 'B', 'WA': 'G', 'V': 'B', 'T': 'G'}\n",
            "{'NT': ['B'], 'SA': [], 'NSW': ['G']}\n",
            "{'SA': 'G', 'Q': 'R', 'NT': 'B', 'NSW': 'B', 'WA': 'G', 'V': 'B', 'T': 'G'}\n",
            "{'SA': [], 'NSW': ['G']}\n",
            "failure\n"
          ]
        }
      ],
      "source": [
        "\n",
        "\n",
        "remainingValues = {'WA': ['R','G','B'], \n",
        "                    'Q': ['R','G','B'],\n",
        "                    'T': ['R','G','B'],\n",
        "                    'V':  ['R','G','B'], \n",
        "                    'NT': ['R','G','B'],\n",
        "                    'SA': ['R','G','B'],                    \n",
        "                    'NSW': ['R','G','B']}\n",
        "\n",
        "for i in range(len(cgraph)):\n",
        "    # assign color to the highest degree node\n",
        "    print(remainingValues)\n",
        "    mrvNode = get_MRVnode(remainingValues)\n",
        "    color = get_color(mrvNode, remainingValues, cgraph)\n",
        "    if color=='no_color':\n",
        "      print('failure')\n",
        "      break\n",
        "    # CODE\n",
        "    # check if 'no color' is returned\n",
        "    # print failure\n",
        "\n",
        "    assigned[mrvNode]= color\n",
        "    print(assigned)"
      ]
    },
    {
      "cell_type": "markdown",
      "source": [
        "**Select nodde randomly**"
      ],
      "metadata": {
        "id": "_6OdvTP0Yna3"
      }
    },
    {
      "cell_type": "code",
      "source": [
        "def get_RandomNode(rv):\n",
        "    remaining_nodes = [k for k in rv.keys()]\n",
        "    node = random.choice(remaining_nodes)\n",
        "    return node"
      ],
      "metadata": {
        "id": "kHundyKLY0Zd"
      },
      "execution_count": null,
      "outputs": []
    },
    {
      "cell_type": "code",
      "source": [
        "assigned = {}\n",
        "\n",
        "remainingValues = {'WA': ['R','G','B'], \n",
        "                    'Q': ['R','G','B'],\n",
        "                    'T': ['R','G','B'],\n",
        "                    'V':  ['R','G','B'], \n",
        "                    'NT': ['R','G','B'],\n",
        "                    'SA': ['R','G','B'],                    \n",
        "                    'NSW': ['R','G','B']}\n",
        "\n",
        "for i in range(len(cgraph)):\n",
        "    # assign color to the highest degree node\n",
        "    print(remainingValues)\n",
        "    rndNode = get_RandomNode(remainingValues)\n",
        "    print('Selected Node: '+rndNode)\n",
        "    color = get_color(rndNode, remainingValues, cgraph)\n",
        "    if color=='no_color':\n",
        "      print('failure')\n",
        "      break\n",
        "    # CODE\n",
        "    # check if 'no color' is returned\n",
        "    # print failure\n",
        "\n",
        "    assigned[rndNode]= color    \n",
        "    print(assigned)"
      ],
      "metadata": {
        "colab": {
          "base_uri": "https://localhost:8080/"
        },
        "id": "nfG3_fuUYt3-",
        "outputId": "8aba767f-be91-4d45-d085-3eaba1d1b1b8"
      },
      "execution_count": null,
      "outputs": [
        {
          "output_type": "stream",
          "name": "stdout",
          "text": [
            "{'WA': ['R', 'G', 'B'], 'Q': ['R', 'G', 'B'], 'T': ['R', 'G', 'B'], 'V': ['R', 'G', 'B'], 'NT': ['R', 'G', 'B'], 'SA': ['R', 'G', 'B'], 'NSW': ['R', 'G', 'B']}\n",
            "Selected Node: WA\n",
            "{'WA': 'B'}\n",
            "{'Q': ['R', 'G', 'B'], 'T': ['R', 'G', 'B'], 'V': ['R', 'G', 'B'], 'NT': ['R', 'G'], 'SA': ['R', 'G'], 'NSW': ['R', 'G', 'B']}\n",
            "Selected Node: SA\n",
            "{'WA': 'B', 'SA': 'R'}\n",
            "{'Q': ['G', 'B'], 'T': ['R', 'G', 'B'], 'V': ['G', 'B'], 'NT': ['G'], 'NSW': ['G', 'B']}\n",
            "Selected Node: T\n",
            "{'WA': 'B', 'SA': 'R', 'T': 'R'}\n",
            "{'Q': ['G', 'B'], 'V': ['G', 'B'], 'NT': ['G'], 'NSW': ['G', 'B']}\n",
            "Selected Node: NSW\n",
            "{'WA': 'B', 'SA': 'R', 'T': 'R', 'NSW': 'G'}\n",
            "{'Q': ['B'], 'V': ['B'], 'NT': ['G']}\n",
            "Selected Node: V\n",
            "{'WA': 'B', 'SA': 'R', 'T': 'R', 'NSW': 'G', 'V': 'B'}\n",
            "{'Q': ['B'], 'NT': ['G']}\n",
            "Selected Node: NT\n",
            "{'WA': 'B', 'SA': 'R', 'T': 'R', 'NSW': 'G', 'V': 'B', 'NT': 'G'}\n",
            "{'Q': ['B']}\n",
            "Selected Node: Q\n",
            "{'WA': 'B', 'SA': 'R', 'T': 'R', 'NSW': 'G', 'V': 'B', 'NT': 'G', 'Q': 'B'}\n"
          ]
        }
      ]
    }
  ],
  "metadata": {
    "kernelspec": {
      "display_name": "Python 3",
      "language": "python",
      "name": "python3"
    },
    "language_info": {
      "codemirror_mode": {
        "name": "ipython",
        "version": 3
      },
      "file_extension": ".py",
      "mimetype": "text/x-python",
      "name": "python",
      "nbconvert_exporter": "python",
      "pygments_lexer": "ipython3",
      "version": "3.8.5"
    },
    "colab": {
      "name": "Week_08_SADIA AFRIN_20-43666-2.ipynb",
      "provenance": [],
      "collapsed_sections": []
    }
  },
  "nbformat": 4,
  "nbformat_minor": 0
}