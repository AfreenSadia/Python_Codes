{
  "cells": [
    {
      "cell_type": "markdown",
      "metadata": {
        "id": "d-DKmj30luYm"
      },
      "source": [
        "![map.JPG](attachment:map.JPG)"
      ]
    },
    {
      "cell_type": "code",
      "execution_count": null,
      "metadata": {
        "id": "goGfzJW8luYu"
      },
      "outputs": [],
      "source": [
        "rmap = {\n",
        "    'Arad': {'Sibiu':140, 'Zerind':75, 'Timisoara':118},\n",
        "    'Zerind': {'Arad':75, 'Oradea':71},\n",
        "    'Oradea': {'Zerind':71, 'Sibiu': 151},\n",
        "    'Sibiu': {'Arad':140, 'Oradea':151, 'Fagaras':99, 'Rimnicu':80},\n",
        "    'Timisoara': {'Arad': 118, 'Lugoj':111},\n",
        "    'Lugoj': {'Timisoara':111, 'Mehadia':70},\n",
        "    'Mehadia': {'Lugoj': 70, 'Drobeta':75},\n",
        "    'Drobeta': {'Mehadia':75, 'Craiova':120},\n",
        "    'Craiova': {'Drobeta': 120, 'Rimnicu': 146, 'Pitesti': 138},\n",
        "    'Rimnicu': {'Sibiu': 80, 'Craiova': 146, 'Pitesti': 97},\n",
        "    'Fagaras': {'Sibiu':99, 'Bucharest':211},\n",
        "    'Pitesti': {'Rimnicu': 97, 'Craiova':138, 'Bucharest':101},\n",
        "    'Bucharest': {'Fagaras':211, 'Pitesti': 101, 'Giurgiu':90, 'Urziceni':85},\n",
        "    'Giurgiu': {'Bucharest': 90},\n",
        "    'Urziceni': {'Bucharest': 85, 'Vaslui':142, 'Hirsova':98},\n",
        "    'Hirsova': {'Urziceni':98, 'Eforie':86},\n",
        "    'Eforie': {'Hirsova':86},\n",
        "    'Vaslui': {'Iasi': 92, 'Urziceni':142},\n",
        "    'Iasi': {'Vaslui':92, 'Neamt': 87},\n",
        "    'Neamt': {'Iasi':87}\n",
        "}"
      ]
    },
    {
      "cell_type": "code",
      "source": [
        "EX1 = {\n",
        "    'S': {'A': 1,'B': 2,'C': 1},\n",
        "    'A':{'C':1,'D':2,'G':6},\n",
        "    'B': {'D':2,'E':3},\n",
        "    'C':{'G':8},\n",
        "    'D':{'E':1},\n",
        "    'E':{'G':1},\n",
        "    'G':{}\n",
        "}"
      ],
      "metadata": {
        "id": "QAsqNEF9Putu"
      },
      "execution_count": null,
      "outputs": []
    },
    {
      "cell_type": "code",
      "source": [
        "EX2 = {\n",
        "      'a' : {'b': 4, 'c': 3},\n",
        "      'b' : {'a': 4, 'e':12,'f': 5},\n",
        "      'c' : {'a' : 3, 'e' : 10, 'd': 7},\n",
        "      'e' : {'b' : 12, 'c' : 10, 'd' : 2, 'z' : 5},\n",
        "      'd' : {'c' : 7, 'e' : 2},\n",
        "      'f' : {'b' : 5, 'z' : 16},\n",
        "      'z' : {'f' : 16, 'e' : 5}\n",
        "  }"
      ],
      "metadata": {
        "id": "hqj6jfMntPnj"
      },
      "execution_count": null,
      "outputs": []
    },
    {
      "cell_type": "markdown",
      "metadata": {
        "id": "KRCzk7hwluYx"
      },
      "source": [
        "# Uniform Cost Search"
      ]
    },
    {
      "cell_type": "code",
      "execution_count": null,
      "metadata": {
        "id": "Caz8BtEWluYy"
      },
      "outputs": [],
      "source": [
        "from queue import PriorityQueue\n",
        "\n",
        "\n",
        "def ucs(snode, dnode, GRAPH):\n",
        "    expanded = [] # to store expanded nodes\n",
        "    frontier = PriorityQueue()\n",
        "\n",
        "    node = (0,snode,[snode]) #(g(n) = path cost, city name, path)\n",
        "    frontier.put(node)\n",
        "    i = 1\n",
        "    while not frontier.empty():\n",
        "        node = frontier.get() # select a node for expansion\n",
        "        u = node[1]\n",
        "        if u in expanded:\n",
        "          continue \n",
        "        print()\n",
        "        print(u+ \" selected. Cost: \"+ str(node[0]))\n",
        "        if u == dnode:# goal test            \n",
        "            print(\"*** GOAL TEST SATISFIED ***\")\n",
        "            print()\n",
        "            return node # path\n",
        "        expanded.append(u)\n",
        "        print('['+str(i)+']: '+u+\" expanding...\")\n",
        "        i = i +1\n",
        "        for v in GRAPH[u].keys():#expanding            \n",
        "            if v not in expanded:\n",
        "                g = node[0] + GRAPH[u][v]\n",
        "                path = node[2] + [v]\n",
        "                frontier.put((g,v,path))\n",
        "                print(u + \"->\"+v + \", Path: \"+ str(path) + \", Cost:\"+ str(g))\n",
        "        #print(frontier.queue)\n",
        "    print('Failed')"
      ]
    },
    {
      "cell_type": "code",
      "execution_count": null,
      "metadata": {
        "colab": {
          "base_uri": "https://localhost:8080/"
        },
        "id": "IwXpwVbKluYz",
        "outputId": "864a3814-4767-4fbb-efc0-afc010bf1a0d"
      },
      "outputs": [
        {
          "output_type": "stream",
          "name": "stdout",
          "text": [
            "\n",
            "a selected. Cost: 0\n",
            "[1]: a expanding...\n",
            "a->b, Path: ['a', 'b'], Cost:4\n",
            "a->c, Path: ['a', 'c'], Cost:3\n",
            "\n",
            "c selected. Cost: 3\n",
            "[2]: c expanding...\n",
            "c->e, Path: ['a', 'c', 'e'], Cost:13\n",
            "c->d, Path: ['a', 'c', 'd'], Cost:10\n",
            "\n",
            "b selected. Cost: 4\n",
            "[3]: b expanding...\n",
            "b->e, Path: ['a', 'b', 'e'], Cost:16\n",
            "b->f, Path: ['a', 'b', 'f'], Cost:9\n",
            "\n",
            "f selected. Cost: 9\n",
            "[4]: f expanding...\n",
            "f->z, Path: ['a', 'b', 'f', 'z'], Cost:25\n",
            "\n",
            "d selected. Cost: 10\n",
            "[5]: d expanding...\n",
            "d->e, Path: ['a', 'c', 'd', 'e'], Cost:12\n",
            "\n",
            "e selected. Cost: 12\n",
            "[6]: e expanding...\n",
            "e->z, Path: ['a', 'c', 'd', 'e', 'z'], Cost:17\n",
            "\n",
            "z selected. Cost: 17\n",
            "*** GOAL TEST SATISFIED ***\n",
            "\n"
          ]
        },
        {
          "output_type": "execute_result",
          "data": {
            "text/plain": [
              "(17, 'z', ['a', 'c', 'd', 'e', 'z'])"
            ]
          },
          "metadata": {},
          "execution_count": 33
        }
      ],
      "source": [
        "ucs('a', 'z', EX2) # change source and destination"
      ]
    },
    {
      "cell_type": "code",
      "source": [
        ""
      ],
      "metadata": {
        "id": "_2ZD5-Gt2YaA"
      },
      "execution_count": null,
      "outputs": []
    },
    {
      "cell_type": "code",
      "execution_count": null,
      "metadata": {
        "id": "0mgZy0qRluY1"
      },
      "outputs": [],
      "source": [
        "# insert simulation of the ouput"
      ]
    },
    {
      "cell_type": "markdown",
      "metadata": {
        "id": "fKD43fSqluY2"
      },
      "source": [
        "# Greedy Best First Search"
      ]
    },
    {
      "cell_type": "code",
      "execution_count": null,
      "metadata": {
        "id": "Y355atJ_luY3"
      },
      "outputs": [],
      "source": [
        "# SLD heuristic for the destination (Bucharest)\n",
        "h = {'Arad': 366,'Zerind':  374,'Oradea': 380,'Sibiu': 253,\n",
        "    'Timisoara': 329,'Lugoj': 244,'Mehadia': 241,'Drobeta': 242,\n",
        "    'Craiova': 160,'Rimnicu': 193,'Fagaras': 176,'Pitesti': 100,\n",
        "    'Bucharest': 0,'Giurgiu': 77,'Urziceni': 80,'Hirsova': 151,\n",
        "    'Eforie': 161,'Vaslui': 199,'Iasi': 226,'Neamt': 234\n",
        "} "
      ]
    },
    {
      "cell_type": "code",
      "source": [
        "h1 = {'S':10,'A':8, 'B':5, 'C':5,\n",
        "     'D':4,'E':2, 'G':0}"
      ],
      "metadata": {
        "id": "Sl977GekTpLe"
      },
      "execution_count": null,
      "outputs": []
    },
    {
      "cell_type": "code",
      "source": [
        "h2 ={'a' : 14,'b':12,'c':11,'d' : 6, 'e': 4, 'f' : 11, 'z' : 0}"
      ],
      "metadata": {
        "id": "WqOtbVy12iPL"
      },
      "execution_count": null,
      "outputs": []
    },
    {
      "cell_type": "code",
      "execution_count": null,
      "metadata": {
        "_cell_guid": "b1076dfc-b9ad-4769-8c92-a6c4dae69d19",
        "_uuid": "8f2839f25d086af736a60e9eeb907d3b93b6e0e5",
        "id": "h-1PIbWaluY4"
      },
      "outputs": [],
      "source": [
        "from queue import PriorityQueue\n",
        "\n",
        "def gbfs(snode, dnode, GRAPH,H):\n",
        "    expanded = [] # to store expanded nodes\n",
        "    frontier = PriorityQueue()\n",
        "\n",
        "    snode = (H[snode],snode,[snode],0) # (h, city, path, path cost)\n",
        "    frontier.put(snode)\n",
        "    i =1\n",
        "    while not frontier.empty():\n",
        "        node = frontier.get() \n",
        "        u = node[1]\n",
        "        print(u+ \" selected. Cost: \"+ str(node[0]))\n",
        "        \n",
        "        if u== dnode:#Goal Test            \n",
        "            print(node)\n",
        "            print(expanded)\n",
        "            return node #path\n",
        "        expanded.append(u)\n",
        "        print('['+str(i)+']: '+u+\" expanding...\")\n",
        "        i = i+1\n",
        "        for v in GRAPH[u].keys():            \n",
        "            if v not in expanded:\n",
        "                g = node[3] + GRAPH[u][v]\n",
        "                path = node[2]+[v]\n",
        "                frontier.put((H[v],v,path, g))\n",
        "                print(u + \"->\"+v + \", Path: \"+ str(path) + \", h:\"+ str(H[v]))   \n",
        "    print('Failed')"
      ]
    },
    {
      "cell_type": "code",
      "execution_count": null,
      "metadata": {
        "id": "39lB5KBmluY6",
        "outputId": "ec98331c-38f9-429d-ee60-2bfaf460c538",
        "colab": {
          "base_uri": "https://localhost:8080/"
        }
      },
      "outputs": [
        {
          "output_type": "stream",
          "name": "stdout",
          "text": [
            "a selected. Cost: 14\n",
            "[1]: a expanding...\n",
            "a->b, Path: ['a', 'b'], h:12\n",
            "a->c, Path: ['a', 'c'], h:11\n",
            "c selected. Cost: 11\n",
            "[2]: c expanding...\n",
            "c->e, Path: ['a', 'c', 'e'], h:4\n",
            "c->d, Path: ['a', 'c', 'd'], h:6\n",
            "e selected. Cost: 4\n",
            "[3]: e expanding...\n",
            "e->b, Path: ['a', 'c', 'e', 'b'], h:12\n",
            "e->d, Path: ['a', 'c', 'e', 'd'], h:6\n",
            "e->z, Path: ['a', 'c', 'e', 'z'], h:0\n",
            "z selected. Cost: 0\n",
            "(0, 'z', ['a', 'c', 'e', 'z'], 18)\n",
            "['a', 'c', 'e']\n"
          ]
        },
        {
          "output_type": "execute_result",
          "data": {
            "text/plain": [
              "(0, 'z', ['a', 'c', 'e', 'z'], 18)"
            ]
          },
          "metadata": {},
          "execution_count": 37
        }
      ],
      "source": [
        "gbfs('a', 'z', EX2,h2) # change source only"
      ]
    },
    {
      "cell_type": "code",
      "execution_count": null,
      "metadata": {
        "id": "E5uVkp26luY7"
      },
      "outputs": [],
      "source": [
        "# insert simulation of the ouput"
      ]
    },
    {
      "cell_type": "markdown",
      "metadata": {
        "id": "dDpUIOyWluY8"
      },
      "source": [
        "# A*"
      ]
    },
    {
      "cell_type": "code",
      "execution_count": null,
      "metadata": {
        "id": "ddEDeRqPluY8"
      },
      "outputs": [],
      "source": [
        "from queue import PriorityQueue\n",
        "\n",
        "def asearch(snode,dnode,GRAPH,H):\n",
        "    expanded = [] # to store expanded nodes\n",
        "    frontier = PriorityQueue()\n",
        "\n",
        "    snode = (H[snode],snode,[snode],0) # (h, city, path, path cost)\n",
        "    frontier.put(snode)\n",
        "    i =1\n",
        "    while not frontier.empty():\n",
        "        node = frontier.get() \n",
        "        u = node[1]\n",
        "        print(u+ \" selected. Cost: \"+ str(node[0]))\n",
        "        \n",
        "        if u== dnode:#Goal Test            \n",
        "            print(node)\n",
        "            print(expanded)\n",
        "            return node #path\n",
        "        expanded.append(u)\n",
        "        print('['+str(i)+']: '+u+\" expanding...\")\n",
        "        i = i+1\n",
        "        for v in GRAPH[u].keys():            \n",
        "            if v not in expanded:\n",
        "                g = node[3] + GRAPH[u][v]\n",
        "                path = node[2]+[v]\n",
        "                frontier.put((g+H[v],v,path, g))\n",
        "                print(u + \"->\"+v + \", Path: \"+ str(path) + \", h:\"+ str(g+H[v]))   \n",
        "    print('Failed')"
      ]
    },
    {
      "cell_type": "code",
      "execution_count": null,
      "metadata": {
        "id": "usP2NEKfluY9",
        "colab": {
          "base_uri": "https://localhost:8080/"
        },
        "outputId": "d5e18663-07ae-47d5-d064-4136e1c5346d"
      },
      "outputs": [
        {
          "output_type": "stream",
          "name": "stdout",
          "text": [
            "a selected. Cost: 14\n",
            "[1]: a expanding...\n",
            "a->b, Path: ['a', 'b'], h:16\n",
            "a->c, Path: ['a', 'c'], h:14\n",
            "c selected. Cost: 14\n",
            "[2]: c expanding...\n",
            "c->e, Path: ['a', 'c', 'e'], h:17\n",
            "c->d, Path: ['a', 'c', 'd'], h:16\n",
            "b selected. Cost: 16\n",
            "[3]: b expanding...\n",
            "b->e, Path: ['a', 'b', 'e'], h:20\n",
            "b->f, Path: ['a', 'b', 'f'], h:20\n",
            "d selected. Cost: 16\n",
            "[4]: d expanding...\n",
            "d->e, Path: ['a', 'c', 'd', 'e'], h:16\n",
            "e selected. Cost: 16\n",
            "[5]: e expanding...\n",
            "e->z, Path: ['a', 'c', 'd', 'e', 'z'], h:17\n",
            "e selected. Cost: 17\n",
            "[6]: e expanding...\n",
            "e->z, Path: ['a', 'c', 'e', 'z'], h:18\n",
            "z selected. Cost: 17\n",
            "(17, 'z', ['a', 'c', 'd', 'e', 'z'], 17)\n",
            "['a', 'c', 'b', 'd', 'e', 'e']\n"
          ]
        },
        {
          "output_type": "execute_result",
          "data": {
            "text/plain": [
              "(17, 'z', ['a', 'c', 'd', 'e', 'z'], 17)"
            ]
          },
          "metadata": {},
          "execution_count": 49
        }
      ],
      "source": [
        "asearch('a','z',EX2,h2)"
      ]
    }
  ],
  "metadata": {
    "kernelspec": {
      "display_name": "Python 3",
      "language": "python",
      "name": "python3"
    },
    "language_info": {
      "codemirror_mode": {
        "name": "ipython",
        "version": 3
      },
      "file_extension": ".py",
      "mimetype": "text/x-python",
      "name": "python",
      "nbconvert_exporter": "python",
      "pygments_lexer": "ipython3",
      "version": "3.8.8"
    },
    "colab": {
      "name": "Week 05 (UCS, GBF, Astar) (2).ipynb",
      "provenance": [],
      "collapsed_sections": []
    }
  },
  "nbformat": 4,
  "nbformat_minor": 0
}