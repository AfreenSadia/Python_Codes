{
  "cells": [
    {
      "cell_type": "markdown",
      "metadata": {
        "id": "nz8Q6nBSaf7k"
      },
      "source": [
        "###### To solve a puzzle, you are given an initial state and a goal state.\n",
        "###### Target is to reach goal state from initial state using puzzle rules.\n",
        "######  We can move blank tile only on left, right, up, and down\n",
        "![Capture.JPG](attachment:Capture.JPG)"
      ]
    },
    {
      "cell_type": "markdown",
      "metadata": {
        "id": "SaqziTVFaf7s"
      },
      "source": [
        "# Generate an intial state of NPuzzle"
      ]
    },
    {
      "cell_type": "code",
      "execution_count": null,
      "metadata": {
        "scrolled": true,
        "id": "iTX34gUNaf7t"
      },
      "outputs": [],
      "source": [
        "import numpy as np\n",
        "import random\n",
        "def get_state(N):    \n",
        "    state = [item for item in range(N*N)]# [0,1,2,...,15]\n",
        "    #print(state)\n",
        "    random.shuffle(state)\n",
        "    #print(state)\n",
        "    tmp = np.array(state)\n",
        "    print(tmp.reshape(N,N))\n",
        "    return state"
      ]
    },
    {
      "cell_type": "code",
      "execution_count": null,
      "metadata": {
        "colab": {
          "base_uri": "https://localhost:8080/"
        },
        "id": "QKTU1E1Iaf7v",
        "outputId": "94069148-b375-42cf-8a19-18ce06dd63c6"
      },
      "outputs": [
        {
          "output_type": "stream",
          "name": "stdout",
          "text": [
            "[[ 7 11  6  2]\n",
            " [ 0  3 15 14]\n",
            " [ 4  1  8 10]\n",
            " [ 9  5 13 12]]\n"
          ]
        },
        {
          "output_type": "execute_result",
          "data": {
            "text/plain": [
              "[7, 11, 6, 2, 0, 3, 15, 14, 4, 1, 8, 10, 9, 5, 13, 12]"
            ]
          },
          "metadata": {},
          "execution_count": 2
        }
      ],
      "source": [
        "get_state(4)"
      ]
    },
    {
      "cell_type": "markdown",
      "metadata": {
        "id": "3hD4ieUaaf7x"
      },
      "source": [
        "# Calculate inversion"
      ]
    },
    {
      "cell_type": "markdown",
      "metadata": {
        "id": "CkoMv0C8af7y"
      },
      "source": [
        "Inversion is a pair of tiles that are in the reverse order from where they ought to be. In our case, the bigger number is in front of the smaller one.\n",
        "\n"
      ]
    },
    {
      "cell_type": "markdown",
      "metadata": {
        "id": "JcfDN45Caf7y"
      },
      "source": [
        "![Capture.JPG](attachment:Capture.JPG)"
      ]
    },
    {
      "cell_type": "code",
      "execution_count": null,
      "metadata": {
        "id": "-W9FOmneaf7z"
      },
      "outputs": [],
      "source": [
        "def count_inversion(state):\n",
        "    #arr = [i for i in arr if i !=0]\n",
        "    print(state)\n",
        "    inversion = []\n",
        "    for i in range(len(state)):    \n",
        "        count = 0\n",
        "        for j in range(i+1,len(state)):        \n",
        "            if (state[i] > state[j])and (state[j]!=0): \n",
        "                count = count + 1\n",
        "        inversion.append(count)\n",
        "    #print(inversion)\n",
        "    return sum(inversion)"
      ]
    },
    {
      "cell_type": "code",
      "execution_count": null,
      "metadata": {
        "colab": {
          "base_uri": "https://localhost:8080/"
        },
        "id": "sWAiuZfjaf71",
        "outputId": "0d9a22b5-cb56-4252-f32a-8b9bf27b7e49"
      },
      "outputs": [
        {
          "output_type": "stream",
          "name": "stdout",
          "text": [
            "[[10  9  0 15]\n",
            " [ 3  6  2 14]\n",
            " [ 4  8  5 13]\n",
            " [ 1  7 12 11]]\n",
            "[10, 9, 0, 15, 3, 6, 2, 14, 4, 8, 5, 13, 1, 7, 12, 11]\n"
          ]
        },
        {
          "output_type": "execute_result",
          "data": {
            "text/plain": [
              "54"
            ]
          },
          "metadata": {},
          "execution_count": 4
        }
      ],
      "source": [
        "s = get_state(4)\n",
        "count_inversion(s)"
      ]
    },
    {
      "cell_type": "markdown",
      "source": [
        "# **Find blank row**"
      ],
      "metadata": {
        "id": "EDn9_ODN1RFU"
      }
    },
    {
      "cell_type": "code",
      "execution_count": null,
      "metadata": {
        "id": "R7-N-A6Oaf76"
      },
      "outputs": [],
      "source": [
        "# find row position of the blank tile\n",
        "import math\n",
        "def get_blank_row(state):\n",
        "  # define here\n",
        "  d=math.sqrt(len(state))\n",
        "  #print(d)\n",
        "  #for i in range(len(state)):\n",
        "  i=state.index(0)\n",
        "\n",
        "    #if state[i]==0:\n",
        "  return (math.floor(d-((i+1)/d)))+1\n",
        "\n",
        "\n"
      ]
    },
    {
      "cell_type": "code",
      "source": [
        "i=4\n",
        "d=4\n",
        "math.floor(d-((i+1)/d))+1"
      ],
      "metadata": {
        "colab": {
          "base_uri": "https://localhost:8080/"
        },
        "id": "iR-agz4z6uOa",
        "outputId": "702c3144-30ec-4bd4-a5cd-698f9ecac719"
      },
      "execution_count": null,
      "outputs": [
        {
          "output_type": "execute_result",
          "data": {
            "text/plain": [
              "3"
            ]
          },
          "metadata": {},
          "execution_count": 6
        }
      ]
    },
    {
      "cell_type": "code",
      "source": [
        "s = get_state(4)\n",
        "get_blank_row(s)"
      ],
      "metadata": {
        "colab": {
          "base_uri": "https://localhost:8080/"
        },
        "id": "SIGtev1n04Go",
        "outputId": "f10dd47c-134a-4d15-d893-b51740953398"
      },
      "execution_count": null,
      "outputs": [
        {
          "output_type": "stream",
          "name": "stdout",
          "text": [
            "[[15  5 13  4]\n",
            " [ 2 10 14  3]\n",
            " [12  6  0  7]\n",
            " [11  9  8  1]]\n"
          ]
        },
        {
          "output_type": "execute_result",
          "data": {
            "text/plain": [
              "2"
            ]
          },
          "metadata": {},
          "execution_count": 7
        }
      ]
    },
    {
      "cell_type": "markdown",
      "metadata": {
        "id": "8bTLG_ZQaf73"
      },
      "source": [
        "# Solvability Rules"
      ]
    },
    {
      "cell_type": "code",
      "execution_count": null,
      "metadata": {
        "id": "0ciw2n-uaf77"
      },
      "outputs": [],
      "source": [
        "# apply the rules to decide solvability\n",
        "#  N, I, R\n",
        "# define a method to return solvability (input S)\n",
        "# return True if solvable or False if not\n",
        "\n",
        "def isSolvable(initialState):\n",
        "  N = math.sqrt(len(initialState))\n",
        "  print(N)\n",
        "  I = count_inversion(initialState)#call function here\n",
        "  \n",
        "  print(I)\n",
        "  R = get_blank_row(initialState)#call function here\n",
        "  print(R)\n",
        "  # decide solvability\n",
        "  ne=False\n",
        "\n",
        "  ie=False\n",
        "\n",
        "  re=False\n",
        "\n",
        "  if(N%2==0):\n",
        "    ne=True\n",
        "  if(I%2==0):\n",
        "    ie=True\n",
        "  if(R%2==0):\n",
        "    re=True\n",
        "\n",
        "  \n",
        "  if(ne==False and ie==True):\n",
        "    return True\n",
        "  if(ne==True and re==False and ie==True):\n",
        "    return True\n",
        "  if(ne==True and re==True and ie==False):\n",
        "    return True\n",
        "    \n",
        "  return False\n",
        "\n",
        "  \n"
      ]
    },
    {
      "cell_type": "code",
      "source": [
        "while True:\n",
        " S = get_state(5)\n",
        " #print(isSolvable(S))\n",
        " if isSolvable(S)==True:\n",
        "   break\n"
      ],
      "metadata": {
        "id": "u2TGpQfNhnP2",
        "colab": {
          "base_uri": "https://localhost:8080/"
        },
        "outputId": "701a0a5c-46dd-42fe-de00-6781ec17624d"
      },
      "execution_count": null,
      "outputs": [
        {
          "output_type": "stream",
          "name": "stdout",
          "text": [
            "[[21 19 12 13 17]\n",
            " [15  0 22 20  8]\n",
            " [ 2 11  1 10 14]\n",
            " [ 5  6 24 18  4]\n",
            " [16  9  7 23  3]]\n",
            "5.0\n",
            "[21, 19, 12, 13, 17, 15, 0, 22, 20, 8, 2, 11, 1, 10, 14, 5, 6, 24, 18, 4, 16, 9, 7, 23, 3]\n",
            "167\n",
            "4\n",
            "[[10  5 16  8 24]\n",
            " [ 3 14  7  9  6]\n",
            " [23 20 21 12 13]\n",
            " [22  4  1 19 15]\n",
            " [11 18  2  0 17]]\n",
            "5.0\n",
            "[10, 5, 16, 8, 24, 3, 14, 7, 9, 6, 23, 20, 21, 12, 13, 22, 4, 1, 19, 15, 11, 18, 2, 0, 17]\n",
            "134\n",
            "1\n"
          ]
        }
      ]
    }
  ],
  "metadata": {
    "kernelspec": {
      "display_name": "Python 3",
      "language": "python",
      "name": "python3"
    },
    "language_info": {
      "codemirror_mode": {
        "name": "ipython",
        "version": 3
      },
      "file_extension": ".py",
      "mimetype": "text/x-python",
      "name": "python",
      "nbconvert_exporter": "python",
      "pygments_lexer": "ipython3",
      "version": "3.8.5"
    },
    "colab": {
      "name": "Week_07_SADIA AFRIN_20-43666-2.ipynb",
      "provenance": [],
      "collapsed_sections": []
    }
  },
  "nbformat": 4,
  "nbformat_minor": 0
}