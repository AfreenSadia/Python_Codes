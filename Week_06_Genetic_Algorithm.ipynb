{
  "cells": [
    {
      "cell_type": "markdown",
      "metadata": {
        "id": "O5x7T2XxRqdv"
      },
      "source": [
        "### Problem: Maximize f(x) = x<sup>2</sup> - 11x + 150 when x = 0 to 255"
      ]
    },
    {
      "cell_type": "markdown",
      "metadata": {
        "id": "ywY6mjLkRqd2"
      },
      "source": [
        "Representation or ecoding solution:\n",
        "x can be represented using 8 bits binary number."
      ]
    },
    {
      "cell_type": "markdown",
      "metadata": {
        "id": "h_AzBq1MRqd3"
      },
      "source": [
        "# Step 1: Initialize Population"
      ]
    },
    {
      "cell_type": "code",
      "execution_count": null,
      "metadata": {
        "_cell_guid": "b1076dfc-b9ad-4769-8c92-a6c4dae69d19",
        "_uuid": "8f2839f25d086af736a60e9eeb907d3b93b6e0e5",
        "id": "1bOfcsluRqd4"
      },
      "outputs": [],
      "source": [
        "import random\n",
        "def initPopulation(b=8, n =10): # n is the number of solutions, b is the length\n",
        "    p = [random.choices([0,1],k = b) for i in range(n)] \n",
        "    return p"
      ]
    },
    {
      "cell_type": "code",
      "execution_count": null,
      "metadata": {
        "colab": {
          "base_uri": "https://localhost:8080/"
        },
        "id": "xqpElpd6Rqd7",
        "outputId": "1a419bc5-ca3d-47e9-8c9a-7a39b4e814a1"
      },
      "outputs": [
        {
          "output_type": "execute_result",
          "data": {
            "text/plain": [
              "[[0, 0, 1, 0, 1, 1, 1, 1],\n",
              " [0, 1, 1, 0, 1, 0, 0, 1],\n",
              " [0, 1, 1, 0, 0, 0, 1, 1],\n",
              " [0, 1, 1, 0, 1, 1, 1, 1],\n",
              " [1, 1, 0, 0, 0, 0, 0, 1],\n",
              " [1, 1, 0, 0, 0, 1, 1, 0]]"
            ]
          },
          "metadata": {},
          "execution_count": 14
        }
      ],
      "source": [
        "initPopulation(n=6)\n"
      ]
    },
    {
      "cell_type": "markdown",
      "metadata": {
        "id": "295Y_a8JRqd8"
      },
      "source": [
        "# Step 2: Reproduction or Parent Selection"
      ]
    },
    {
      "cell_type": "markdown",
      "metadata": {
        "id": "Q-2xm1Y0Rqd9"
      },
      "source": [
        "Fitness Calculation"
      ]
    },
    {
      "cell_type": "code",
      "execution_count": null,
      "metadata": {
        "id": "GeSnMD0hRqd_"
      },
      "outputs": [],
      "source": [
        "def binToDecimal(binList):\n",
        "  decValue = 0 # decimel value\n",
        "  power = len(binList)\n",
        "  for digit in binList: # binary to decimel\n",
        "    decValue += digit*2**(power-1)\n",
        "    power -= 1\n",
        "  return decValue\n",
        "\n",
        "def func(x):\n",
        "  return x**2 - 11*x + 150\n",
        "\n",
        "def getFitness(p): # p is the whole population\n",
        "    f = [] # to store fitness values\n",
        "    for sol in p:\n",
        "        d = binToDecimal(sol)\n",
        "        v = func(d)\n",
        "        if v< 0: f.append(0)\n",
        "        else: f.append(v) # fitness function\n",
        "    return f"
      ]
    },
    {
      "cell_type": "code",
      "execution_count": null,
      "metadata": {
        "colab": {
          "base_uri": "https://localhost:8080/"
        },
        "id": "bDE-fRdFRqeB",
        "outputId": "8e525676-1416-4287-e4f6-8a605844aa0e"
      },
      "outputs": [
        {
          "output_type": "execute_result",
          "data": {
            "text/plain": [
              "[46560, 23990, 19580, 26526, 32340, 140]"
            ]
          },
          "metadata": {},
          "execution_count": 4
        }
      ],
      "source": [
        "population = initPopulation(8,6)\n",
        "getFitness(population)"
      ]
    },
    {
      "cell_type": "markdown",
      "metadata": {
        "id": "MuyfwGTDRqeC"
      },
      "source": [
        "calculate probability and select parents"
      ]
    },
    {
      "cell_type": "code",
      "execution_count": null,
      "metadata": {
        "id": "lK4uQOsrRqeC"
      },
      "outputs": [],
      "source": [
        "import numpy as np\n",
        "def select_parent(n, pop): # probability, parent selection\n",
        "    # probability\n",
        "    fitness = getFitness(pop)\n",
        "    total_fitness = sum(fitness)\n",
        "    prob = [f/total_fitness for f in fitness]\n",
        "    cumSumProb = np.cumsum(prob)\n",
        "    #print(cumSumProb)\n",
        "    # parent selection\n",
        "    parents = []\n",
        "    for i in range(n):\n",
        "        # roullete wheel, generate a random number\n",
        "        r = random.random()\n",
        "        #print(r)\n",
        "        # check bin number of r        \n",
        "        for j in range(len(cumSumProb)):\n",
        "            if r <= cumSumProb[j] :#checking the bin\n",
        "                #print(j)\n",
        "                parents.append(pop[j])\n",
        "                break\n",
        "    return parents"
      ]
    },
    {
      "cell_type": "code",
      "execution_count": null,
      "metadata": {
        "colab": {
          "base_uri": "https://localhost:8080/"
        },
        "id": "3-lCH3ZoRqeD",
        "outputId": "771f3eaf-4560-45b5-fc08-4a50ac91a72c"
      },
      "outputs": [
        {
          "output_type": "stream",
          "name": "stdout",
          "text": [
            "[[1, 1, 0, 1, 0, 1, 1, 1], [0, 0, 0, 1, 1, 0, 1, 1], [1, 1, 1, 0, 1, 0, 1, 1], [0, 1, 1, 0, 0, 1, 1, 1], [0, 0, 1, 0, 1, 1, 0, 1], [1, 1, 1, 1, 0, 1, 0, 0], [0, 0, 1, 1, 0, 1, 1, 1], [0, 0, 0, 1, 1, 1, 1, 0], [0, 0, 0, 0, 1, 0, 1, 0], [0, 1, 0, 1, 0, 1, 0, 0]]\n",
            "[[0, 0, 1, 1, 0, 1, 1, 1], [1, 1, 1, 1, 0, 1, 0, 0], [1, 1, 1, 1, 0, 1, 0, 0], [0, 1, 1, 0, 0, 1, 1, 1]]\n"
          ]
        }
      ],
      "source": [
        "population = initPopulation(8,10)\n",
        "print(population)\n",
        "parents = select_parent(4, population)\n",
        "print(parents)"
      ]
    },
    {
      "cell_type": "markdown",
      "metadata": {
        "id": "HTf2wgA_RqeE"
      },
      "source": [
        "# Step 3: Crossover"
      ]
    },
    {
      "cell_type": "code",
      "execution_count": null,
      "metadata": {
        "id": "PwgF2uv6RqeF"
      },
      "outputs": [],
      "source": [
        "# define a method crossover (input is parents set)\n",
        "def cross(p):\n",
        "  num_cross = len(p)//2\n",
        "  # print(num_cross)\n",
        "  offsprings = []\n",
        "  #  for loop to perform crossovers\n",
        "  for i in range(num_cross):\n",
        "   cp = random.choice(range(3,6))\n",
        "   # print(cp)\n",
        "   # perform crossover\n",
        "   x,y = p[i*2],p[i+1]\n",
        "   # modify the above line as the parents will be different for each crossover\n",
        "   off1 = x[:cp] + y[cp:]\n",
        "   offsprings.append(off1)\n",
        "\n",
        "   \n",
        "   # write code for off2\n",
        "   off2 = y[cp:] + x[:cp]\n",
        "   offsprings.append(off2)\n",
        "   \n",
        "\n",
        "  return offsprings"
      ]
    },
    {
      "cell_type": "code",
      "source": [
        "off = cross(parents)\n",
        "off"
      ],
      "metadata": {
        "colab": {
          "base_uri": "https://localhost:8080/"
        },
        "id": "gNH0V9eRRGHy",
        "outputId": "0a7d4830-60ff-450f-c40d-ed5e46397a2b"
      },
      "execution_count": null,
      "outputs": [
        {
          "output_type": "execute_result",
          "data": {
            "text/plain": [
              "[[1, 0, 0, 0, 0, 1, 0, 1], [1, 0, 0, 0, 0, 1, 0, 1]]"
            ]
          },
          "metadata": {},
          "execution_count": 8
        }
      ]
    },
    {
      "cell_type": "markdown",
      "source": [
        "# Step 4: Mutation"
      ],
      "metadata": {
        "id": "96AgRoxSVaV2"
      }
    },
    {
      "cell_type": "code",
      "source": [
        "# Perform mutation with 3% probability\n",
        "# def mutate(offsp, pr = 0.03):\n",
        "\n",
        "import numpy as np\n",
        "import random\n",
        "def mutate (offsp,pr=0.03):\n",
        "\n",
        "    for i in range (len(offsp)):\n",
        "      for j in range (len(offsp[i])):\n",
        "        r=random.ramdom()\n",
        "        print(r)\n",
        "        if r <= pr:\n",
        "          print(offsp(i))\n",
        "          offsp[i][j]= 1- offsp[j]\n",
        "          print(offsp(i))\n",
        "          print (j)\n",
        "\n",
        "\n",
        "    return offsp\n"
      ],
      "metadata": {
        "id": "CDun2Et1VdZe"
      },
      "execution_count": null,
      "outputs": []
    },
    {
      "cell_type": "markdown",
      "metadata": {
        "id": "Zx8t0GLTRqeG"
      },
      "source": [
        "# Step 5: Select Survivor\n",
        "The selected survivors (solutions) will be added to population"
      ]
    },
    {
      "cell_type": "markdown",
      "metadata": {
        "id": "aTh52_9WRqeG"
      },
      "source": [
        "Select top 2 offspring based on fitness value and add them to population."
      ]
    },
    {
      "cell_type": "code",
      "execution_count": null,
      "metadata": {
        "id": "MhgbFzZHRqeH"
      },
      "outputs": [],
      "source": [
        "# define a method to select top offsprings (input offsprings, top)\n",
        "def select_survivor(offsp):\n",
        "  topOffsp = []\n",
        "  f = getFitness(offsp)\n",
        "  mInd = f.index(max(f))\n",
        "  topOffsp.append(offsp[mInd])\n",
        "  f.pop(mInd)\n",
        "  #print(f)\n",
        "  mInd = f.index(max(f))\n",
        "  topOffsp.append(offsp[mInd])\n",
        "  return topOffsp"
      ]
    },
    {
      "cell_type": "code",
      "source": [
        "select_survivor(off)"
      ],
      "metadata": {
        "colab": {
          "base_uri": "https://localhost:8080/"
        },
        "id": "9_-3CouTRm7E",
        "outputId": "0cd58794-8587-4e08-d6c8-076b3bbd6a8e"
      },
      "execution_count": null,
      "outputs": [
        {
          "output_type": "execute_result",
          "data": {
            "text/plain": [
              "[[1, 0, 0, 0, 0, 1, 0, 1], [1, 0, 0, 0, 0, 1, 0, 1]]"
            ]
          },
          "metadata": {},
          "execution_count": 11
        }
      ]
    },
    {
      "cell_type": "code",
      "source": [
        "def best(p):\n",
        "  f = getFitness(p)\n",
        "  mInd = f.index(max(f))\n",
        "  return p[mInd], max(f)"
      ],
      "metadata": {
        "id": "7Gm7ebem3dh1"
      },
      "execution_count": null,
      "outputs": []
    },
    {
      "cell_type": "markdown",
      "source": [
        "# **Complete iteration**"
      ],
      "metadata": {
        "id": "G4tLqF-TRyS5"
      }
    },
    {
      "cell_type": "code",
      "source": [
        "# modify the below code to iterate the process for 3 generations\n",
        "# in each generation show the best solution in population with fitness value\n",
        "population = initPopulation(8,10)\n",
        "print(best(population))\n",
        "parents = select_parent(6, population)\n",
        "offsprings = cross(parents)\n",
        "# call mutation here\n",
        "survivors = select_survivor(offsprings)\n",
        "updatedPopulation = population + survivors\n",
        "updatedPopulation"
      ],
      "metadata": {
        "colab": {
          "base_uri": "https://localhost:8080/"
        },
        "id": "fIOX062HPMSc",
        "outputId": "8845d363-1e65-4437-a6a2-a9feca3ac242"
      },
      "execution_count": null,
      "outputs": [
        {
          "output_type": "stream",
          "name": "stdout",
          "text": [
            "([1, 1, 1, 1, 1, 1, 0, 0], 60882)\n"
          ]
        },
        {
          "output_type": "execute_result",
          "data": {
            "text/plain": [
              "[[0, 1, 0, 0, 0, 0, 1, 0],\n",
              " [1, 1, 0, 0, 0, 1, 0, 1],\n",
              " [0, 1, 0, 0, 0, 1, 1, 1],\n",
              " [1, 0, 0, 1, 0, 0, 0, 1],\n",
              " [0, 0, 0, 0, 1, 0, 1, 0],\n",
              " [1, 1, 1, 1, 1, 1, 0, 0],\n",
              " [1, 0, 1, 1, 1, 1, 1, 0],\n",
              " [0, 1, 1, 1, 1, 0, 0, 0],\n",
              " [0, 1, 1, 1, 1, 0, 0, 1],\n",
              " [1, 0, 0, 0, 0, 0, 0, 0],\n",
              " [1, 1, 1, 1, 1, 1, 1, 0],\n",
              " [1, 0, 1, 1, 1, 1, 1, 0]]"
            ]
          },
          "metadata": {},
          "execution_count": 21
        }
      ]
    }
  ],
  "metadata": {
    "kernelspec": {
      "display_name": "Python 3",
      "language": "python",
      "name": "python3"
    },
    "language_info": {
      "codemirror_mode": {
        "name": "ipython",
        "version": 3
      },
      "file_extension": ".py",
      "mimetype": "text/x-python",
      "name": "python",
      "nbconvert_exporter": "python",
      "pygments_lexer": "ipython3",
      "version": "3.8.5"
    },
    "colab": {
      "name": "Week 06 Genetic Algorithm.ipynb",
      "provenance": [],
      "collapsed_sections": []
    }
  },
  "nbformat": 4,
  "nbformat_minor": 0
}